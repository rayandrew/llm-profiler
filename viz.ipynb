{
 "cells": [
  {
   "cell_type": "code",
   "execution_count": 1,
   "metadata": {},
   "outputs": [
    {
     "name": "stdout",
     "output_type": "stream",
     "text": [
      "time: 329 µs (started: 2024-05-10 04:00:12 +00:00)\n"
     ]
    }
   ],
   "source": [
    "%load_ext autoreload\n",
    "%load_ext autotime"
   ]
  },
  {
   "cell_type": "code",
   "execution_count": 2,
   "metadata": {},
   "outputs": [
    {
     "data": {
      "text/plain": [
       "True"
      ]
     },
     "execution_count": 2,
     "metadata": {},
     "output_type": "execute_result"
    },
    {
     "name": "stdout",
     "output_type": "stream",
     "text": [
      "time: 14.4 ms (started: 2024-05-10 04:00:12 +00:00)\n"
     ]
    }
   ],
   "source": [
    "import os\n",
    "from dotenv import find_dotenv, load_dotenv\n",
    "\n",
    "env_file = find_dotenv()\n",
    "load_dotenv(env_file)"
   ]
  },
  {
   "cell_type": "code",
   "execution_count": 3,
   "metadata": {},
   "outputs": [
    {
     "name": "stdout",
     "output_type": "stream",
     "text": [
      "time: 4.35 s (started: 2024-05-10 04:00:12 +00:00)\n"
     ]
    }
   ],
   "source": [
    "import dask.dataframe as dd\n",
    "import matplotlib.pyplot as plt\n",
    "import numpy as np\n",
    "import pandas as pd\n",
    "import warnings\n",
    "from pathlib import Path\n",
    "from dlp_analyzer.main import (\n",
    "    DLPAnalyzer,\n",
    "    setup_dask_cluster,\n",
    "    setup_logging,\n",
    "    update_dlp_configuration,\n",
    "    get_dlp_configuration,\n",
    ")\n",
    "from dlp_analyzer.plots import DLPAnalyzerPlots\n",
    "\n",
    "plt.style.use(\"seaborn-v0_8-poster\")\n",
    "warnings.filterwarnings(\"ignore\")"
   ]
  },
  {
   "cell_type": "code",
   "execution_count": 4,
   "metadata": {},
   "outputs": [
    {
     "name": "stdout",
     "output_type": "stream",
     "text": [
      "time: 2.97 ms (started: 2024-05-10 04:00:17 +00:00)\n"
     ]
    }
   ],
   "source": [
    "update_dlp_configuration(\n",
    "    debug=False,\n",
    "    skip_hostname=True,\n",
    "    time_approximate=True,\n",
    "    time_granularity=30e6,\n",
    "    # time_granularity=80e6,\n",
    "    verbose=True,\n",
    "    workers=2,\n",
    ")\n",
    "\n",
    "setup_logging()"
   ]
  },
  {
   "cell_type": "code",
   "execution_count": 5,
   "metadata": {},
   "outputs": [
    {
     "name": "stderr",
     "output_type": "stream",
     "text": [
      "[INFO] [04:00:19] Initialized Client with 2 workers and link http://127.0.0.1:8787/status [/lus/grand/projects/ReForMerS/llm-profiler/dlp_analyzer/main.py:957]\n"
     ]
    },
    {
     "name": "stdout",
     "output_type": "stream",
     "text": [
      "time: 2.43 s (started: 2024-05-10 04:00:17 +00:00)\n"
     ]
    }
   ],
   "source": [
    "# %autoreload 2\n",
    "\n",
    "setup_dask_cluster()"
   ]
  },
  {
   "cell_type": "code",
   "execution_count": 6,
   "metadata": {},
   "outputs": [
    {
     "data": {
      "text/plain": [
       "30000000.0"
      ]
     },
     "execution_count": 6,
     "metadata": {},
     "output_type": "execute_result"
    },
    {
     "name": "stdout",
     "output_type": "stream",
     "text": [
      "time: 2.69 ms (started: 2024-05-10 04:00:19 +00:00)\n"
     ]
    }
   ],
   "source": [
    "get_dlp_configuration().time_granularity"
   ]
  },
  {
   "cell_type": "code",
   "execution_count": 7,
   "metadata": {},
   "outputs": [
    {
     "name": "stderr",
     "output_type": "stream",
     "text": [
      "[INFO] [04:00:19] Created index for 0 files [/lus/grand/projects/ReForMerS/llm-profiler/dlp_analyzer/main.py:436]\n",
      "[INFO] [04:00:19] Total size of all files are <dask.bag.core.Item object at 0x7f5bdc999790> bytes [/lus/grand/projects/ReForMerS/llm-profiler/dlp_analyzer/main.py:438]\n",
      "[INFO] [04:00:22] Loaded events [/lus/grand/projects/ReForMerS/llm-profiler/dlp_analyzer/main.py:522]\n",
      "[INFO] [04:00:22] Loaded plots with slope threshold: 45 [/lus/grand/projects/ReForMerS/llm-profiler/dlp_analyzer/main.py:528]\n"
     ]
    },
    {
     "data": {
      "text/plain": [
       "<dlp_analyzer.main.DLPAnalyzer at 0x7f69153685d0>"
      ]
     },
     "execution_count": 7,
     "metadata": {},
     "output_type": "execute_result"
    },
    {
     "name": "stdout",
     "output_type": "stream",
     "text": [
      "time: 2.3 s (started: 2024-05-10 04:00:19 +00:00)\n"
     ]
    }
   ],
   "source": [
    "%autoreload 2\n",
    "\n",
    "# trace_path = \"/grand/ReForMerS/llm-profiler/log/5-epochs_4-workers_not-pinned_persistent/mnist/*.pfw\"\n",
    "# trace_path = \"/grand/ReForMerS/llm-profiler/log/dlio/*.pfw\"\n",
    "trace_path = \"/grand/ReForMerS/llm-profiler/*.pfw\"\n",
    "output_path = Path(trace_path).parent / \"plots\"\n",
    "output_path.mkdir(exist_ok=True, parents=True)\n",
    "\n",
    "analyzer = DLPAnalyzer(trace_path)\n",
    "analyzer"
   ]
  },
  {
   "cell_type": "code",
   "execution_count": 8,
   "metadata": {},
   "outputs": [
    {
     "data": {
      "text/html": [
       "<div>\n",
       "<style scoped>\n",
       "    .dataframe tbody tr th:only-of-type {\n",
       "        vertical-align: middle;\n",
       "    }\n",
       "\n",
       "    .dataframe tbody tr th {\n",
       "        vertical-align: top;\n",
       "    }\n",
       "\n",
       "    .dataframe thead th {\n",
       "        text-align: right;\n",
       "    }\n",
       "</style>\n",
       "<table border=\"1\" class=\"dataframe\">\n",
       "  <thead>\n",
       "    <tr style=\"text-align: right;\">\n",
       "      <th></th>\n",
       "      <th>name</th>\n",
       "      <th>cat</th>\n",
       "      <th>pid</th>\n",
       "      <th>tid</th>\n",
       "      <th>ts</th>\n",
       "      <th>te</th>\n",
       "      <th>dur</th>\n",
       "      <th>tinterval</th>\n",
       "      <th>trange</th>\n",
       "      <th>hostname</th>\n",
       "      <th>compute_time</th>\n",
       "      <th>io_time</th>\n",
       "      <th>app_io_time</th>\n",
       "      <th>total_time</th>\n",
       "      <th>filename</th>\n",
       "      <th>phase</th>\n",
       "      <th>size</th>\n",
       "    </tr>\n",
       "  </thead>\n",
       "  <tbody>\n",
       "    <tr>\n",
       "      <th>0</th>\n",
       "      <td>open64</td>\n",
       "      <td>POSIX</td>\n",
       "      <td>641268</td>\n",
       "      <td>1282536</td>\n",
       "      <td>0</td>\n",
       "      <td>2556</td>\n",
       "      <td>2556</td>\n",
       "      <td>&lt;NA&gt;</td>\n",
       "      <td>0.0</td>\n",
       "      <td>x3006c0s13b1n0</td>\n",
       "      <td>&lt;NA&gt;</td>\n",
       "      <td>2556</td>\n",
       "      <td>&lt;NA&gt;</td>\n",
       "      <td>2556</td>\n",
       "      <td>/lus/grand/projects/ReForMerS/llm-profiler/dat...</td>\n",
       "      <td>2</td>\n",
       "      <td>&lt;NA&gt;</td>\n",
       "    </tr>\n",
       "    <tr>\n",
       "      <th>1</th>\n",
       "      <td>__fxstat64</td>\n",
       "      <td>POSIX</td>\n",
       "      <td>641268</td>\n",
       "      <td>1282536</td>\n",
       "      <td>3583</td>\n",
       "      <td>3815</td>\n",
       "      <td>232</td>\n",
       "      <td>&lt;NA&gt;</td>\n",
       "      <td>0.0</td>\n",
       "      <td>x3006c0s13b1n0</td>\n",
       "      <td>&lt;NA&gt;</td>\n",
       "      <td>232</td>\n",
       "      <td>&lt;NA&gt;</td>\n",
       "      <td>232</td>\n",
       "      <td>/lus/grand/projects/ReForMerS/llm-profiler/dat...</td>\n",
       "      <td>2</td>\n",
       "      <td>&lt;NA&gt;</td>\n",
       "    </tr>\n",
       "    <tr>\n",
       "      <th>2</th>\n",
       "      <td>lseek64</td>\n",
       "      <td>POSIX</td>\n",
       "      <td>641268</td>\n",
       "      <td>1282536</td>\n",
       "      <td>3844</td>\n",
       "      <td>3846</td>\n",
       "      <td>2</td>\n",
       "      <td>&lt;NA&gt;</td>\n",
       "      <td>0.0</td>\n",
       "      <td>x3006c0s13b1n0</td>\n",
       "      <td>&lt;NA&gt;</td>\n",
       "      <td>2</td>\n",
       "      <td>&lt;NA&gt;</td>\n",
       "      <td>2</td>\n",
       "      <td>/lus/grand/projects/ReForMerS/llm-profiler/dat...</td>\n",
       "      <td>2</td>\n",
       "      <td>&lt;NA&gt;</td>\n",
       "    </tr>\n",
       "    <tr>\n",
       "      <th>3</th>\n",
       "      <td>lseek64</td>\n",
       "      <td>POSIX</td>\n",
       "      <td>641268</td>\n",
       "      <td>1282536</td>\n",
       "      <td>3866</td>\n",
       "      <td>3867</td>\n",
       "      <td>1</td>\n",
       "      <td>&lt;NA&gt;</td>\n",
       "      <td>0.0</td>\n",
       "      <td>x3006c0s13b1n0</td>\n",
       "      <td>&lt;NA&gt;</td>\n",
       "      <td>1</td>\n",
       "      <td>&lt;NA&gt;</td>\n",
       "      <td>1</td>\n",
       "      <td>/lus/grand/projects/ReForMerS/llm-profiler/dat...</td>\n",
       "      <td>2</td>\n",
       "      <td>&lt;NA&gt;</td>\n",
       "    </tr>\n",
       "    <tr>\n",
       "      <th>4</th>\n",
       "      <td>lseek64</td>\n",
       "      <td>POSIX</td>\n",
       "      <td>641268</td>\n",
       "      <td>1282536</td>\n",
       "      <td>3894</td>\n",
       "      <td>3895</td>\n",
       "      <td>1</td>\n",
       "      <td>&lt;NA&gt;</td>\n",
       "      <td>0.0</td>\n",
       "      <td>x3006c0s13b1n0</td>\n",
       "      <td>&lt;NA&gt;</td>\n",
       "      <td>1</td>\n",
       "      <td>&lt;NA&gt;</td>\n",
       "      <td>1</td>\n",
       "      <td>/lus/grand/projects/ReForMerS/llm-profiler/dat...</td>\n",
       "      <td>2</td>\n",
       "      <td>&lt;NA&gt;</td>\n",
       "    </tr>\n",
       "  </tbody>\n",
       "</table>\n",
       "</div>"
      ],
      "text/plain": [
       "         name    cat     pid      tid    ts    te   dur  tinterval  trange  \\\n",
       "0      open64  POSIX  641268  1282536     0  2556  2556       <NA>     0.0   \n",
       "1  __fxstat64  POSIX  641268  1282536  3583  3815   232       <NA>     0.0   \n",
       "2     lseek64  POSIX  641268  1282536  3844  3846     2       <NA>     0.0   \n",
       "3     lseek64  POSIX  641268  1282536  3866  3867     1       <NA>     0.0   \n",
       "4     lseek64  POSIX  641268  1282536  3894  3895     1       <NA>     0.0   \n",
       "\n",
       "         hostname  compute_time  io_time  app_io_time  total_time  \\\n",
       "0  x3006c0s13b1n0          <NA>     2556         <NA>        2556   \n",
       "1  x3006c0s13b1n0          <NA>      232         <NA>         232   \n",
       "2  x3006c0s13b1n0          <NA>        2         <NA>           2   \n",
       "3  x3006c0s13b1n0          <NA>        1         <NA>           1   \n",
       "4  x3006c0s13b1n0          <NA>        1         <NA>           1   \n",
       "\n",
       "                                            filename  phase  size  \n",
       "0  /lus/grand/projects/ReForMerS/llm-profiler/dat...      2  <NA>  \n",
       "1  /lus/grand/projects/ReForMerS/llm-profiler/dat...      2  <NA>  \n",
       "2  /lus/grand/projects/ReForMerS/llm-profiler/dat...      2  <NA>  \n",
       "3  /lus/grand/projects/ReForMerS/llm-profiler/dat...      2  <NA>  \n",
       "4  /lus/grand/projects/ReForMerS/llm-profiler/dat...      2  <NA>  "
      ]
     },
     "execution_count": 8,
     "metadata": {},
     "output_type": "execute_result"
    },
    {
     "name": "stdout",
     "output_type": "stream",
     "text": [
      "time: 49 ms (started: 2024-05-10 04:00:22 +00:00)\n"
     ]
    }
   ],
   "source": [
    "analyzer.events.head()"
   ]
  },
  {
   "cell_type": "code",
   "execution_count": 9,
   "metadata": {},
   "outputs": [
    {
     "name": "stderr",
     "output_type": "stream",
     "text": [
      "[INFO] [04:00:22] Total number of events in the workload are 127 [/lus/grand/projects/ReForMerS/llm-profiler/dlp_analyzer/main.py:717]\n"
     ]
    },
    {
     "name": "stdout",
     "output_type": "stream",
     "text": [
      "Index(['name', 'cat', 'pid', 'tid', 'ts', 'te', 'dur', 'tinterval', 'trange',\n",
      "       'hostname', 'compute_time', 'io_time', 'app_io_time', 'total_time',\n",
      "       'filename', 'phase', 'size'],\n",
      "      dtype='object')\n"
     ]
    },
    {
     "name": "stderr",
     "output_type": "stream",
     "text": [
      "[INFO] [04:00:23] Approximate True 4283702, 4802.0, 0.0, 0.0,                4802.0, 0.0, 0.0, 0.0 [/lus/grand/projects/ReForMerS/llm-profiler/dlp_analyzer/main.py:661]\n"
     ]
    },
    {
     "name": "stderr",
     "output_type": "stream",
     "text": [
      "2024-05-10 04:00:23,555 - distributed.shuffle._scheduler_plugin - WARNING - Shuffle 892fe5992ac11ff6edb2318ebe857a04 initialized by task ('shuffle-transfer-892fe5992ac11ff6edb2318ebe857a04', 0) executed on worker tcp://127.0.0.1:40905\n",
      "2024-05-10 04:00:23,559 - distributed.shuffle._scheduler_plugin - WARNING - Shuffle f00324e0d484d479a9804727c49c1b9a initialized by task ('shuffle-transfer-f00324e0d484d479a9804727c49c1b9a', 0) executed on worker tcp://127.0.0.1:40905\n",
      "2024-05-10 04:00:23,561 - distributed.shuffle._scheduler_plugin - WARNING - Shuffle 5a600b6862178dca02f813f88d8b4fe4 initialized by task ('shuffle-transfer-5a600b6862178dca02f813f88d8b4fe4', 0) executed on worker tcp://127.0.0.1:40905\n",
      "2024-05-10 04:00:23,594 - distributed.shuffle._scheduler_plugin - WARNING - Shuffle 46560593c6368207d657d8737551e644 initialized by task ('shuffle-transfer-46560593c6368207d657d8737551e644', 0) executed on worker tcp://127.0.0.1:40905\n",
      "2024-05-10 04:00:23,597 - distributed.shuffle._scheduler_plugin - WARNING - Shuffle c27c4683ff2a9900653a691bf6aed96d initialized by task ('shuffle-transfer-c27c4683ff2a9900653a691bf6aed96d', 0) executed on worker tcp://127.0.0.1:40905\n",
      "2024-05-10 04:00:23,717 - distributed.shuffle._scheduler_plugin - WARNING - Shuffle 892fe5992ac11ff6edb2318ebe857a04 deactivated due to stimulus 'task-finished-1715313623.7164109'\n",
      "2024-05-10 04:00:23,736 - distributed.shuffle._scheduler_plugin - WARNING - Shuffle c27c4683ff2a9900653a691bf6aed96d deactivated due to stimulus 'task-finished-1715313623.7258632'\n",
      "2024-05-10 04:00:23,739 - distributed.shuffle._scheduler_plugin - WARNING - Shuffle 5a600b6862178dca02f813f88d8b4fe4 deactivated due to stimulus 'task-finished-1715313623.7361858'\n",
      "2024-05-10 04:00:23,986 - distributed.shuffle._scheduler_plugin - WARNING - Shuffle f00324e0d484d479a9804727c49c1b9a deactivated due to stimulus 'task-finished-1715313623.9848678'\n",
      "2024-05-10 04:00:23,987 - distributed.shuffle._scheduler_plugin - WARNING - Shuffle 46560593c6368207d657d8737551e644 deactivated due to stimulus 'task-finished-1715313623.9849043'\n"
     ]
    },
    {
     "name": "stdout",
     "output_type": "stream",
     "text": [
      "{'open64': {('dur', 'sum'): 11720, ('dur', 'count'): 7, ('size', 'sum'): 0, ('size', 'mean'): nan, ('size', 'median'): None, ('size', 'min'): None, ('size', 'max'): None, ('size', 'percentile_25'): nan, ('size', 'percentile_75'): nan}, '__fxstat64': {('dur', 'sum'): 1753, ('dur', 'count'): 7, ('size', 'sum'): 0, ('size', 'mean'): nan, ('size', 'median'): None, ('size', 'min'): None, ('size', 'max'): None, ('size', 'percentile_25'): nan, ('size', 'percentile_75'): nan}, 'lseek64': {('dur', 'sum'): 55, ('dur', 'count'): 45, ('size', 'sum'): 0, ('size', 'mean'): nan, ('size', 'median'): None, ('size', 'min'): None, ('size', 'max'): None, ('size', 'percentile_25'): nan, ('size', 'percentile_75'): nan}, 'write': {('dur', 'sum'): 1640, ('dur', 'count'): 18, ('size', 'sum'): 656575, ('size', 'mean'): 36476.38888888889, ('size', 'median'): 61747.0, ('size', 'min'): 30, ('size', 'max'): 65719, ('size', 'percentile_25'): 55.0, ('size', 'percentile_75'): 65520.0}, 'close': {('dur', 'sum'): 1208, ('dur', 'count'): 7, ('size', 'sum'): 0, ('size', 'mean'): nan, ('size', 'median'): None, ('size', 'min'): None, ('size', 'max'): None, ('size', 'percentile_25'): nan, ('size', 'percentile_75'): nan}, '__xstat64': {('dur', 'sum'): 1939, ('dur', 'count'): 2, ('size', 'sum'): 0, ('size', 'mean'): nan, ('size', 'median'): None, ('size', 'min'): None, ('size', 'max'): None, ('size', 'percentile_25'): nan, ('size', 'percentile_75'): nan}, '__lxstat64': {('dur', 'sum'): 1035, ('dur', 'count'): 2, ('size', 'sum'): 0, ('size', 'mean'): nan, ('size', 'median'): None, ('size', 'min'): None, ('size', 'max'): None, ('size', 'percentile_25'): nan, ('size', 'percentile_75'): nan}, 'unlink': {('dur', 'sum'): 949, ('dur', 'count'): 19, ('size', 'sum'): 0, ('size', 'mean'): nan, ('size', 'median'): None, ('size', 'min'): None, ('size', 'max'): None, ('size', 'percentile_25'): nan, ('size', 'percentile_75'): nan}, 'read': {('dur', 'sum'): 256, ('dur', 'count'): 2, ('size', 'sum'): 582127, ('size', 'mean'): 291063.5, ('size', 'median'): 291063.5, ('size', 'min'): 0, ('size', 'max'): 582127, ('size', 'percentile_25'): 145531.75, ('size', 'percentile_75'): 436595.25}, 'link': {('dur', 'sum'): 68, ('dur', 'count'): 12, ('size', 'sum'): 0, ('size', 'mean'): nan, ('size', 'median'): None, ('size', 'min'): None, ('size', 'max'): None, ('size', 'percentile_25'): nan, ('size', 'percentile_75'): nan}}\n"
     ]
    },
    {
     "data": {
      "text/html": [
       "<pre style=\"white-space:pre;overflow-x:auto;line-height:normal;font-family:Menlo,'DejaVu Sans Mono',consolas,'Courier New',monospace\">╭──────────────────────────────────────────────────── Summary ────────────────────────────────────────────────────╮\n",
       "│ <span style=\"color: #008080; text-decoration-color: #008080\"> Allocation   </span> Scheduler Allocation Details                                                                     │\n",
       "│ <span style=\"color: #008080; text-decoration-color: #008080\">              </span> ├── Nodes: 1                                                                                     │\n",
       "│ <span style=\"color: #008080; text-decoration-color: #008080\">              </span> ├── Processes: 2                                                                                 │\n",
       "│ <span style=\"color: #008080; text-decoration-color: #008080\">              </span> ├── Thread allocations across nodes (includes dynamically created threads)                       │\n",
       "│ <span style=\"color: #008080; text-decoration-color: #008080\">              </span> │   ├── Compute: 0                                                                               │\n",
       "│ <span style=\"color: #008080; text-decoration-color: #008080\">              </span> │   └── I/O: 6                                                                                   │\n",
       "│ <span style=\"color: #008080; text-decoration-color: #008080\">              </span> └── Events Recorded: 127                                                                         │\n",
       "│ <span style=\"color: #008080; text-decoration-color: #008080\"> Dataset      </span> Description of Dataset Used                                                                      │\n",
       "│ <span style=\"color: #008080; text-decoration-color: #008080\">              </span> └── Files: 26                                                                                    │\n",
       "│ <span style=\"color: #008080; text-decoration-color: #008080\"> I/O Behavior </span> Behavior of Application                                                                          │\n",
       "│ <span style=\"color: #008080; text-decoration-color: #008080\">              </span> ├── Split of Time in application                                                                 │\n",
       "│ <span style=\"color: #008080; text-decoration-color: #008080\">              </span> │   ├── Total Time: 4.284 sec                                                                    │\n",
       "│ <span style=\"color: #008080; text-decoration-color: #008080\">              </span> │   └── Overall I/O: 0.005 sec                                                                   │\n",
       "│ <span style=\"color: #008080; text-decoration-color: #008080\">              </span> └── Metrics by function                                                                          │\n",
       "│ <span style=\"color: #008080; text-decoration-color: #008080\">              </span>     ├── Function       |count |                  size                   |                        │\n",
       "│ <span style=\"color: #008080; text-decoration-color: #008080\">              </span>     ├──                |      |min   |25    |mean  |median|75    |max   |                        │\n",
       "│ <span style=\"color: #008080; text-decoration-color: #008080\">              </span>     ├── open64         |7     |NA    |nan   |nan   |NA    |nan   |NA    |                        │\n",
       "│ <span style=\"color: #008080; text-decoration-color: #008080\">              </span>     ├── __fxstat64     |7     |NA    |nan   |nan   |NA    |nan   |NA    |                        │\n",
       "│ <span style=\"color: #008080; text-decoration-color: #008080\">              </span>     ├── lseek64        |45    |NA    |nan   |nan   |NA    |nan   |NA    |                        │\n",
       "│ <span style=\"color: #008080; text-decoration-color: #008080\">              </span>     ├── write          |18    |30    |55    |36KB  |60KB  |64KB  |64KB  |                        │\n",
       "│ <span style=\"color: #008080; text-decoration-color: #008080\">              </span>     ├── close          |7     |NA    |nan   |nan   |NA    |nan   |NA    |                        │\n",
       "│ <span style=\"color: #008080; text-decoration-color: #008080\">              </span>     ├── __xstat64      |2     |NA    |nan   |nan   |NA    |nan   |NA    |                        │\n",
       "│ <span style=\"color: #008080; text-decoration-color: #008080\">              </span>     ├── __lxstat64     |2     |NA    |nan   |nan   |NA    |nan   |NA    |                        │\n",
       "│ <span style=\"color: #008080; text-decoration-color: #008080\">              </span>     ├── unlink         |19    |NA    |nan   |nan   |NA    |nan   |NA    |                        │\n",
       "│ <span style=\"color: #008080; text-decoration-color: #008080\">              </span>     ├── read           |2     |NA    |143KB |284KB |284KB |427KB |568KB |                        │\n",
       "│ <span style=\"color: #008080; text-decoration-color: #008080\">              </span>     └── link           |12    |NA    |nan   |nan   |NA    |nan   |NA    |                        │\n",
       "╰─────────────────────────────────────────────────────────────────────────────────────────────────────────────────╯\n",
       "</pre>\n"
      ],
      "text/plain": [
       "╭──────────────────────────────────────────────────── Summary ────────────────────────────────────────────────────╮\n",
       "│ \u001b[36m \u001b[0m\u001b[36mAllocation  \u001b[0m\u001b[36m \u001b[0m Scheduler Allocation Details                                                                     │\n",
       "│ \u001b[36m              \u001b[0m ├── Nodes: 1                                                                                     │\n",
       "│ \u001b[36m              \u001b[0m ├── Processes: 2                                                                                 │\n",
       "│ \u001b[36m              \u001b[0m ├── Thread allocations across nodes (includes dynamically created threads)                       │\n",
       "│ \u001b[36m              \u001b[0m │   ├── Compute: 0                                                                               │\n",
       "│ \u001b[36m              \u001b[0m │   └── I/O: 6                                                                                   │\n",
       "│ \u001b[36m              \u001b[0m └── Events Recorded: 127                                                                         │\n",
       "│ \u001b[36m \u001b[0m\u001b[36mDataset     \u001b[0m\u001b[36m \u001b[0m Description of Dataset Used                                                                      │\n",
       "│ \u001b[36m              \u001b[0m └── Files: 26                                                                                    │\n",
       "│ \u001b[36m \u001b[0m\u001b[36mI/O Behavior\u001b[0m\u001b[36m \u001b[0m Behavior of Application                                                                          │\n",
       "│ \u001b[36m              \u001b[0m ├── Split of Time in application                                                                 │\n",
       "│ \u001b[36m              \u001b[0m │   ├── Total Time: 4.284 sec                                                                    │\n",
       "│ \u001b[36m              \u001b[0m │   └── Overall I/O: 0.005 sec                                                                   │\n",
       "│ \u001b[36m              \u001b[0m └── Metrics by function                                                                          │\n",
       "│ \u001b[36m              \u001b[0m     ├── Function       |count |                  size                   |                        │\n",
       "│ \u001b[36m              \u001b[0m     ├──                |      |min   |25    |mean  |median|75    |max   |                        │\n",
       "│ \u001b[36m              \u001b[0m     ├── open64         |7     |NA    |nan   |nan   |NA    |nan   |NA    |                        │\n",
       "│ \u001b[36m              \u001b[0m     ├── __fxstat64     |7     |NA    |nan   |nan   |NA    |nan   |NA    |                        │\n",
       "│ \u001b[36m              \u001b[0m     ├── lseek64        |45    |NA    |nan   |nan   |NA    |nan   |NA    |                        │\n",
       "│ \u001b[36m              \u001b[0m     ├── write          |18    |30    |55    |36KB  |60KB  |64KB  |64KB  |                        │\n",
       "│ \u001b[36m              \u001b[0m     ├── close          |7     |NA    |nan   |nan   |NA    |nan   |NA    |                        │\n",
       "│ \u001b[36m              \u001b[0m     ├── __xstat64      |2     |NA    |nan   |nan   |NA    |nan   |NA    |                        │\n",
       "│ \u001b[36m              \u001b[0m     ├── __lxstat64     |2     |NA    |nan   |nan   |NA    |nan   |NA    |                        │\n",
       "│ \u001b[36m              \u001b[0m     ├── unlink         |19    |NA    |nan   |nan   |NA    |nan   |NA    |                        │\n",
       "│ \u001b[36m              \u001b[0m     ├── read           |2     |NA    |143KB |284KB |284KB |427KB |568KB |                        │\n",
       "│ \u001b[36m              \u001b[0m     └── link           |12    |NA    |nan   |nan   |NA    |nan   |NA    |                        │\n",
       "╰─────────────────────────────────────────────────────────────────────────────────────────────────────────────────╯\n"
      ]
     },
     "metadata": {},
     "output_type": "display_data"
    },
    {
     "name": "stdout",
     "output_type": "stream",
     "text": [
      "time: 1.75 s (started: 2024-05-10 04:00:22 +00:00)\n"
     ]
    }
   ],
   "source": [
    "%autoreload 2\n",
    "analyzer.summary()"
   ]
  },
  {
   "cell_type": "code",
   "execution_count": 10,
   "metadata": {},
   "outputs": [
    {
     "data": {
      "image/png": "[encoded data removed]",
      "text/plain": [
       "<Figure size 800x300 with 2 Axes>"
      ]
     },
     "metadata": {},
     "output_type": "display_data"
    },
    {
     "name": "stdout",
     "output_type": "stream",
     "text": [
      "time: 1.6 s (started: 2024-05-10 04:00:24 +00:00)\n"
     ]
    }
   ],
   "source": [
    "fig, ax1, ax2 = analyzer.plots.time_bw_timeline(\n",
    "    bw_unit=\"mb\",\n",
    "    figsize=(8, 3),\n",
    "    line1_label=\"POSIX I/O Time\",\n",
    "    line2_label=\"POSIX I/O Bandwidth\",\n",
    "    time_col=\"io_time\",\n",
    "    x_num_ticks=8,\n",
    "    y_num_ticks=5,\n",
    ")"
   ]
  },
  {
   "cell_type": "code",
   "execution_count": 11,
   "metadata": {},
   "outputs": [
    {
     "name": "stdout",
     "output_type": "stream",
     "text": [
      "time: 889 ms (started: 2024-05-10 04:00:25 +00:00)\n"
     ]
    }
   ],
   "source": [
    "fig.savefig(output_path / \"posix_io_time.png\", dpi=300, bbox_inches=\"tight\")\n",
    "fig.savefig(\n",
    "    output_path / \"posix_io_time.pdf\", dpi=300, format=\"pdf\", bbox_inches=\"tight\"\n",
    ")"
   ]
  },
  {
   "cell_type": "code",
   "execution_count": 12,
   "metadata": {},
   "outputs": [
    {
     "data": {
      "image/png": "[encoded data removed]",
      "text/plain": [
       "<Figure size 800x300 with 1 Axes>"
      ]
     },
     "metadata": {},
     "output_type": "display_data"
    },
    {
     "name": "stdout",
     "output_type": "stream",
     "text": [
      "time: 1.33 s (started: 2024-05-10 04:00:26 +00:00)\n"
     ]
    }
   ],
   "source": [
    "fig, ax = analyzer.plots.xfer_size_timeline(\n",
    "    figsize=(8, 3),\n",
    "    unit=\"kb\",\n",
    "    x_num_ticks=8,\n",
    ")"
   ]
  },
  {
   "cell_type": "code",
   "execution_count": 13,
   "metadata": {},
   "outputs": [
    {
     "name": "stdout",
     "output_type": "stream",
     "text": [
      "time: 509 ms (started: 2024-05-10 04:00:28 +00:00)\n"
     ]
    }
   ],
   "source": [
    "fig.savefig(output_path / \"xfer_size.png\", dpi=300, bbox_inches=\"tight\")\n",
    "fig.savefig(output_path / \"xfer_size.pdf\", dpi=300, format=\"pdf\", bbox_inches=\"tight\")"
   ]
  },
  {
   "cell_type": "code",
   "execution_count": null,
   "metadata": {},
   "outputs": [],
   "source": []
  }
 ],
 "metadata": {
  "kernelspec": {
   "display_name": "Python 3",
   "language": "python",
   "name": "python3"
  },
  "language_info": {
   "codemirror_mode": {
    "name": "ipython",
    "version": 3
   },
   "file_extension": ".py",
   "mimetype": "text/x-python",
   "name": "python",
   "nbconvert_exporter": "python",
   "pygments_lexer": "ipython3",
   "version": "3.11.8"
  }
 },
 "nbformat": 4,
 "nbformat_minor": 2
}

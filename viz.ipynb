{
 "cells": [
  {
   "cell_type": "code",
   "execution_count": 1,
   "metadata": {},
   "outputs": [
    {
     "name": "stdout",
     "output_type": "stream",
     "text": [
      "time: 249 µs (started: 2024-05-10 06:04:24 +00:00)\n"
     ]
    }
   ],
   "source": [
    "%load_ext autoreload\n",
    "%load_ext autotime"
   ]
  },
  {
   "cell_type": "code",
   "execution_count": 2,
   "metadata": {},
   "outputs": [
    {
     "data": {
      "text/plain": [
       "True"
      ]
     },
     "execution_count": 2,
     "metadata": {},
     "output_type": "execute_result"
    },
    {
     "name": "stdout",
     "output_type": "stream",
     "text": [
      "time: 16.9 ms (started: 2024-05-10 06:04:24 +00:00)\n"
     ]
    }
   ],
   "source": [
    "import os\n",
    "from dotenv import find_dotenv, load_dotenv\n",
    "\n",
    "env_file = find_dotenv()\n",
    "load_dotenv(env_file)"
   ]
  },
  {
   "cell_type": "code",
   "execution_count": 3,
   "metadata": {},
   "outputs": [
    {
     "name": "stdout",
     "output_type": "stream",
     "text": [
      "time: 3.69 s (started: 2024-05-10 06:04:24 +00:00)\n"
     ]
    }
   ],
   "source": [
    "import dask.dataframe as dd\n",
    "import matplotlib.pyplot as plt\n",
    "import numpy as np\n",
    "import pandas as pd\n",
    "import warnings\n",
    "from pathlib import Path\n",
    "from dlp_analyzer.main import (\n",
    "    DLPAnalyzer,\n",
    "    setup_dask_cluster,\n",
    "    setup_logging,\n",
    "    update_dlp_configuration,\n",
    "    get_dlp_configuration,\n",
    ")\n",
    "from dlp_analyzer.plots import DLPAnalyzerPlots\n",
    "\n",
    "plt.style.use(\"seaborn-v0_8-poster\")\n",
    "warnings.filterwarnings(\"ignore\")"
   ]
  },
  {
   "cell_type": "code",
   "execution_count": 4,
   "metadata": {},
   "outputs": [
    {
     "name": "stdout",
     "output_type": "stream",
     "text": [
      "time: 2.46 ms (started: 2024-05-10 06:04:28 +00:00)\n"
     ]
    }
   ],
   "source": [
    "update_dlp_configuration(\n",
    "    debug=False,\n",
    "    skip_hostname=True,\n",
    "    time_approximate=True,\n",
    "    time_granularity=30e6,\n",
    "    # time_granularity=80e6,\n",
    "    verbose=True,\n",
    "    workers=0,\n",
    ")\n",
    "\n",
    "setup_logging()"
   ]
  },
  {
   "cell_type": "code",
   "execution_count": 5,
   "metadata": {},
   "outputs": [
    {
     "name": "stdout",
     "output_type": "stream",
     "text": [
      "time: 7.13 ms (started: 2024-05-10 06:04:28 +00:00)\n"
     ]
    }
   ],
   "source": [
    "# %autoreload 2\n",
    "\n",
    "# setup_dask_cluster()"
   ]
  },
  {
   "cell_type": "code",
   "execution_count": 6,
   "metadata": {},
   "outputs": [
    {
     "data": {
      "text/plain": [
       "30000000.0"
      ]
     },
     "execution_count": 6,
     "metadata": {},
     "output_type": "execute_result"
    },
    {
     "name": "stdout",
     "output_type": "stream",
     "text": [
      "time: 2.53 ms (started: 2024-05-10 06:04:28 +00:00)\n"
     ]
    }
   ],
   "source": [
    "get_dlp_configuration().time_granularity"
   ]
  },
  {
   "cell_type": "code",
   "execution_count": 7,
   "metadata": {},
   "outputs": [
    {
     "name": "stderr",
     "output_type": "stream",
     "text": [
      "[INFO] [06:04:29] Created index for 0 files [/lus/grand/projects/ReForMerS/llm-profiler/dlp_analyzer/main.py:436]\n",
      "[INFO] [06:04:29] Total size of all files are <dask.bag.core.Item object at 0x7f4971b9ab10> bytes [/lus/grand/projects/ReForMerS/llm-profiler/dlp_analyzer/main.py:438]\n"
     ]
    },
    {
     "ename": "",
     "evalue": "",
     "output_type": "error",
     "traceback": [
      "\u001b[1;31mThe Kernel crashed while executing code in the current cell or a previous cell. \n",
      "\u001b[1;31mPlease review the code in the cell(s) to identify a possible cause of the failure. \n",
      "\u001b[1;31mClick <a href='https://aka.ms/vscodeJupyterKernelCrash'>here</a> for more info. \n",
      "\u001b[1;31mView Jupyter <a href='command:jupyter.viewOutput'>log</a> for further details."
     ]
    }
   ],
   "source": [
    "%autoreload 2\n",
    "\n",
    "# trace_path = \"/grand/ReForMerS/llm-profiler/log/5-epochs_4-workers_not-pinned_persistent/mnist/*.pfw\"\n",
    "trace_path = \"/grand/ReForMerS/llm-profiler/log/dlio/*.pfw\"\n",
    "# trace_path = \"/grand/ReForMerS/llm-profiler/*.pfw\"\n",
    "output_path = Path(trace_path).parent / \"plots\"\n",
    "output_path.mkdir(exist_ok=True, parents=True)\n",
    "\n",
    "analyzer = DLPAnalyzer(trace_path)\n",
    "analyzer"
   ]
  },
  {
   "cell_type": "code",
   "execution_count": null,
   "metadata": {},
   "outputs": [],
   "source": [
    "analyzer.events.head()"
   ]
  },
  {
   "cell_type": "code",
   "execution_count": null,
   "metadata": {},
   "outputs": [],
   "source": [
    "analyzer.events.tail()"
   ]
  },
  {
   "cell_type": "code",
   "execution_count": null,
   "metadata": {},
   "outputs": [],
   "source": [
    "%autoreload 2\n",
    "analyzer.summary()"
   ]
  },
  {
   "cell_type": "code",
   "execution_count": null,
   "metadata": {},
   "outputs": [],
   "source": [
    "fig, ax1, ax2 = analyzer.plots.time_bw_timeline(\n",
    "    bw_unit=\"mb\",\n",
    "    figsize=(8, 3),\n",
    "    line1_label=\"POSIX I/O Time\",\n",
    "    line2_label=\"POSIX I/O Bandwidth\",\n",
    "    time_col=\"io_time\",\n",
    "    x_num_ticks=8,\n",
    "    y_num_ticks=5,\n",
    ")"
   ]
  },
  {
   "cell_type": "code",
   "execution_count": null,
   "metadata": {},
   "outputs": [],
   "source": [
    "fig.savefig(output_path / \"posix_io_time.png\", dpi=300, bbox_inches=\"tight\")\n",
    "fig.savefig(\n",
    "    output_path / \"posix_io_time.pdf\", dpi=300, format=\"pdf\", bbox_inches=\"tight\"\n",
    ")"
   ]
  },
  {
   "cell_type": "code",
   "execution_count": null,
   "metadata": {},
   "outputs": [],
   "source": [
    "fig, ax = analyzer.plots.xfer_size_timeline(\n",
    "    figsize=(8, 3),\n",
    "    unit=\"kb\",\n",
    "    x_num_ticks=8,\n",
    ")"
   ]
  },
  {
   "cell_type": "code",
   "execution_count": null,
   "metadata": {},
   "outputs": [],
   "source": [
    "fig.savefig(output_path / \"xfer_size.png\", dpi=300, bbox_inches=\"tight\")\n",
    "fig.savefig(output_path / \"xfer_size.pdf\", dpi=300, format=\"pdf\", bbox_inches=\"tight\")"
   ]
  },
  {
   "cell_type": "code",
   "execution_count": null,
   "metadata": {},
   "outputs": [],
   "source": []
  }
 ],
 "metadata": {
  "kernelspec": {
   "display_name": "Python 3",
   "language": "python",
   "name": "python3"
  },
  "language_info": {
   "codemirror_mode": {
    "name": "ipython",
    "version": 3
   },
   "file_extension": ".py",
   "mimetype": "text/x-python",
   "name": "python",
   "nbconvert_exporter": "python",
   "pygments_lexer": "ipython3",
   "version": "3.11.8"
  }
 },
 "nbformat": 4,
 "nbformat_minor": 2
}
